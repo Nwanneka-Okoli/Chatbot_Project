{
 "cells": [
  {
   "cell_type": "code",
   "execution_count": 2,
   "id": "56d89b27",
   "metadata": {},
   "outputs": [
    {
     "name": "stderr",
     "output_type": "stream",
     "text": [
      "[nltk_data] Downloading package stopwords to\n",
      "[nltk_data]     C:\\Users\\Khadi\\AppData\\Roaming\\nltk_data...\n",
      "[nltk_data]   Package stopwords is already up-to-date!\n"
     ]
    }
   ],
   "source": [
    "import nltk\n",
    "from nltk.corpus import stopwords\n",
    "nltk.download('stopwords')\n",
    "from nltk.tokenize import RegexpTokenizer\n",
    "tokenizer = RegexpTokenizer(r'\\w+') # tokenizes and removes punctuation\n",
    "from nltk.stem.porter import PorterStemmer\n",
    "stemmer = PorterStemmer()\n",
    "#import tensorflow\n",
    "#import tflearn\n",
    "import json\n",
    "\n",
    "\n",
    "\n",
    "\n",
    "def load_data():\n",
    "    with open(\"intents.json\") as json_file:\n",
    "        chatbot_data= json.load(json_file)\n",
    "        return chatbot_data            \n",
    "\n",
    "# Splits the sentences into an array of words\n",
    "def sentence_tokenize(sentence):\n",
    "    return tokenizer.tokenize(sentence)\n",
    "\n",
    "# Gets the root of each word passed to it.\n",
    "def word_stem(w):\n",
    "    return stemmer.stem(w.lower())\n",
    "\n"
   ]
  },
  {
   "cell_type": "code",
   "execution_count": null,
   "id": "3ae1852e",
   "metadata": {},
   "outputs": [],
   "source": []
  }
 ],
 "metadata": {
  "kernelspec": {
   "display_name": "Python 3 (ipykernel)",
   "language": "python",
   "name": "python3"
  },
  "language_info": {
   "codemirror_mode": {
    "name": "ipython",
    "version": 3
   },
   "file_extension": ".py",
   "mimetype": "text/x-python",
   "name": "python",
   "nbconvert_exporter": "python",
   "pygments_lexer": "ipython3",
   "version": "3.9.13"
  }
 },
 "nbformat": 4,
 "nbformat_minor": 5
}
